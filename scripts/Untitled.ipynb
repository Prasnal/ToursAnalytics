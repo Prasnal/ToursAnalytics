{
 "cells": [
  {
   "cell_type": "code",
   "execution_count": 1,
   "id": "c60083af-a22a-47d2-9bb5-142cfade8265",
   "metadata": {},
   "outputs": [],
   "source": [
    "import requests\n",
    "from bs4 import BeautifulSoup\n",
    "\n",
    "r = requests.get(\"https://r.pl/wycieczki-objazdowe\")\n",
    "soup = BeautifulSoup(r.text)\n",
    "\n",
    "tours=soup.findAll(\"script\")[-7].string\n"
   ]
  },
  {
   "cell_type": "code",
   "execution_count": 2,
   "id": "9a59182e-949b-4fe9-9ea2-9ee38a76d83b",
   "metadata": {},
   "outputs": [
    {
     "data": {
      "text/plain": [
       "'{\"@context\":\"https://schema.org/\",\"@type\":\"ItemList\",\"itemListElement\":[{\"@context\":\"https://schema.org/\",\"@type\":\"ListItem\",\"position\":\"1\",\"name\":\"Rovaniemi - z wizytą u Św. Mikołaja\",\"image\":\"https:https://zdjecia-cdn.r.pl/hotel/330/zakwaterowanie-rvn_330_102153_3x2.jpg\",\"url\":\"https://r.pl/rovaniemi-z-wizyta-u-sw-mikolaja/zakwaterowanie-rvn?data=20240211&dlugoscPobytu=1&miastoWyjazdu=gdansk&iataWyjazdu=GDN&wyzywienie=bez-wyzywienia&liczbaPokoi=1&czyCenaZaWszystkich=0&wiek=1993-01-01&wiek=1993-01-01\"},{\"@context\":\"https://schema.org/\",\"@type\":\"ListItem\",\"position\":\"2\",\"name\":\"Harry Potter i magia Londynu\",\"image\":\"https:https://zdjecia-cdn.r.pl/hotel/2098/zakwaterowanie-lfm_2098_132557_3x2.jpg\",\"url\":\"https://r.pl/harry-potter-i-magia-londynu/zakwaterowanie-lfm?data=20230907&dlugoscPobytu=4&miastoWyjazdu=gdansk&iataWyjazdu=GDN&wyzywienie=sniadania&liczbaPokoi=1&czyCenaZaWszystkich=0&wiek=1993-01-01&wiek=1993-01-01\"},{\"@context\":\"https://schema.org/\",\"@type\":\"ListItem\",\"position\":\"3\",\"name\":\"Albański off road\",\"image\":\"https:https://zdjecia-cdn.r.pl/hotel/4449/zakwaterowanie-alk_4449_131561_3x2.jpg\",\"url\":\"https://r.pl/albania-aktywni/zakwaterowanie-alk?data=20230904&dlugoscPobytu=8&miastoWyjazdu=katowice&iataWyjazdu=KTW&wyzywienie=2-posilki&liczbaPokoi=1&czyCenaZaWszystkich=0&wiek=1993-01-01&wiek=1993-01-01\"},{\"@context\":\"https://schema.org/\",\"@type\":\"ListItem\",\"position\":\"4\",\"name\":\"Welcome to London\",\"image\":\"https:https://zdjecia-cdn.r.pl/hotel/424/zakwaterowanie-llo_424_109704_3x2.jpg\",\"url\":\"https://r.pl/welcome-to-london/zakwaterowanie-llo?data=20230914&dlugoscPobytu=4&miastoWyjazdu=katowice&iataWyjazdu=KTW&wyzywienie=sniadania&liczbaPokoi=1&czyCenaZaWszystkich=0&wiek=1993-01-01&wiek=1993-01-01\"},{\"@context\":\"https://schema.org/\",\"@type\":\"ListItem\",\"position\":\"5\",\"name\":\"Turcja Egejska - Sułtańskie Rarytasy\",\"image\":\"https:https://zdjecia-cdn.r.pl/hotel/864/zakwaterowanie-tir_864_102285_3x2.jpg\",\"url\":\"https://r.pl/turcja-egejska-sultanskie-rarytasy/zakwaterowanie-tir?data=20230903&dlugoscPobytu=9&miastoWyjazdu=wroclaw&iataWyjazdu=WRO&wyzywienie=2-posilki&liczbaPokoi=1&czyCenaZaWszystkich=0&wiek=1993-01-01&wiek=1993-01-01\"},{\"@context\":\"https://schema.org/\",\"@type\":\"ListItem\",\"position\":\"6\",\"name\":\"Bułgaria - Od gór do morza, po Złote Piaski\",\"image\":\"https:https://zdjecia-cdn.r.pl/hotel/842/zakwaterowanie-buw_842_103347_3x2.jpg\",\"url\":\"https://r.pl/bulgaria-od-gor-do-morza-po-zlote-piaski/zakwaterowanie-buw?data=20230908&dlugoscPobytu=8&miastoWyjazdu=katowice&iataWyjazdu=KTW&wyzywienie=sniadania&liczbaPokoi=1&czyCenaZaWszystkich=0&wiek=1993-01-01&wiek=1993-01-01\"},{\"@context\":\"https://schema.org/\",\"@type\":\"ListItem\",\"position\":\"7\",\"name\":\"Egipt - Hurghada Holiday Tour\",\"image\":\"https:https://zdjecia-cdn.r.pl/hotel/4654/zakwaterowanie-egh_4654_108276_3x2.jpg\",\"url\":\"https://r.pl/egipt-hurghada-holiday-tour/zakwaterowanie-egh?data=20230903&dlugoscPobytu=8&miastoWyjazdu=katowice&iataWyjazdu=KTW&wyzywienie=all-inclusive&liczbaPokoi=1&czyCenaZaWszystkich=0&wiek=1993-01-01&wiek=1993-01-01\"},{\"@context\":\"https://schema.org/\",\"@type\":\"ListItem\",\"position\":\"8\",\"name\":\"Poznaj nieznane\",\"image\":\"https:https://zdjecia-cdn.r.pl/hotel/3372/zakwaterowanie-alo_3372_102243_3x2.jpg\",\"url\":\"https://r.pl/poznaj-nieznane/zakwaterowanie-alo?data=20230904&dlugoscPobytu=8&miastoWyjazdu=katowice&iataWyjazdu=KTW&wyzywienie=2-posilki&liczbaPokoi=1&czyCenaZaWszystkich=0&wiek=1993-01-01&wiek=1993-01-01\"},{\"@context\":\"https://schema.org/\",\"@type\":\"ListItem\",\"position\":\"9\",\"name\":\"Egipt - Potęga Południa\",\"image\":\"https:https://zdjecia-cdn.r.pl/hotel/118/zakwaterowanie-egi_118_99826_3x2.jpg\",\"url\":\"https://r.pl/egipt-potega-poludnia/zakwaterowanie-egi?data=20230907&dlugoscPobytu=8&miastoWyjazdu=katowice&iataWyjazdu=KTW&wyzywienie=&liczbaPokoi=1&czyCenaZaWszystkich=0&wiek=1993-01-01&wiek=1993-01-01\"},{\"@context\":\"https://schema.org/\",\"@type\":\"ListItem\",\"position\":\"10\",\"name\":\"Turcja - Przygoda w księżycowej Krainie\",\"image\":\"https:https://zdjecia-cdn.r.pl/hotel/2742/zakwaterowanie-kon_2742_63329_3x2.jpg\",\"url\":\"https://r.pl/turcja-przygoda-w-ksiezycowej-krainie/zakwaterowanie-kon?data=20230902&dlugoscPobytu=8&miastoWyjazdu=warszawa&iataWyjazdu=WAW&wyzywienie=2-posilki&liczbaPokoi=1&czyCenaZaWszystkich=0&wiek=1993-01-01&wiek=1993-01-01\"}]}'"
      ]
     },
     "execution_count": 2,
     "metadata": {},
     "output_type": "execute_result"
    }
   ],
   "source": [
    "tours"
   ]
  },
  {
   "cell_type": "code",
   "execution_count": 3,
   "id": "dfb616ab-9a97-4836-bdd5-46d9d44d5381",
   "metadata": {},
   "outputs": [],
   "source": [
    "import json\n",
    "json_object = json.loads(tours)"
   ]
  },
  {
   "cell_type": "code",
   "execution_count": 4,
   "id": "8665367a-5dec-42f4-a926-84d3b8b0af9d",
   "metadata": {},
   "outputs": [
    {
     "data": {
      "text/plain": [
       "4107"
      ]
     },
     "execution_count": 4,
     "metadata": {},
     "output_type": "execute_result"
    }
   ],
   "source": [
    "codes=soup.findAll(\"script\")[-4].string\n",
    "codes_json = json.loads(codes)\n",
    "\n",
    "with open('data.json', 'w') as f:\n",
    "    json.dump(codes_json, f)\n",
    "\n",
    "#codes_json\n",
    "\n",
    "#codes.find('7199355_0_1_0_K7_7_I0k_Kk_297983_835800_297959_835753_3-posilki_')\n",
    "#codes[codes.find('6894_9333:175096:7199355')-10:]\n",
    "codes.find('/welcome-to-london/zakwaterowanie-llo?data=%s&dlugoscPobytu=%d&miastoWyjazdu=%s&iataWyjazdu=%s&wyzywienie=%s&liczbaPokoi=%d&czyCenaZaWszystkich=%d')\n",
    "#codes.find('Finlandia: Laponia')\n",
    "#codes_json[674:]\n",
    "\n",
    "codes_json[4343] #[186933+198:]#.find('/welcome-to-london')\n",
    "\n",
    "len(codes_json[673:])\n",
    "\n",
    "#for data in codes_json[:20]:\n",
    "#    print(data)\n",
    "#    print()"
   ]
  },
  {
   "cell_type": "code",
   "execution_count": 5,
   "id": "cf801cd5-bd1c-4629-902a-203991ff9127",
   "metadata": {},
   "outputs": [
    {
     "data": {
      "text/plain": [
       "{'@context': 'https://schema.org/',\n",
       " '@type': 'ItemList',\n",
       " 'itemListElement': [{'@context': 'https://schema.org/',\n",
       "   '@type': 'ListItem',\n",
       "   'position': '1',\n",
       "   'name': 'Rovaniemi - z wizytą u Św. Mikołaja',\n",
       "   'image': 'https:https://zdjecia-cdn.r.pl/hotel/330/zakwaterowanie-rvn_330_102153_3x2.jpg',\n",
       "   'url': 'https://r.pl/rovaniemi-z-wizyta-u-sw-mikolaja/zakwaterowanie-rvn?data=20240211&dlugoscPobytu=1&miastoWyjazdu=gdansk&iataWyjazdu=GDN&wyzywienie=bez-wyzywienia&liczbaPokoi=1&czyCenaZaWszystkich=0&wiek=1993-01-01&wiek=1993-01-01'},\n",
       "  {'@context': 'https://schema.org/',\n",
       "   '@type': 'ListItem',\n",
       "   'position': '2',\n",
       "   'name': 'Harry Potter i magia Londynu',\n",
       "   'image': 'https:https://zdjecia-cdn.r.pl/hotel/2098/zakwaterowanie-lfm_2098_132557_3x2.jpg',\n",
       "   'url': 'https://r.pl/harry-potter-i-magia-londynu/zakwaterowanie-lfm?data=20230907&dlugoscPobytu=4&miastoWyjazdu=gdansk&iataWyjazdu=GDN&wyzywienie=sniadania&liczbaPokoi=1&czyCenaZaWszystkich=0&wiek=1993-01-01&wiek=1993-01-01'},\n",
       "  {'@context': 'https://schema.org/',\n",
       "   '@type': 'ListItem',\n",
       "   'position': '3',\n",
       "   'name': 'Albański off road',\n",
       "   'image': 'https:https://zdjecia-cdn.r.pl/hotel/4449/zakwaterowanie-alk_4449_131561_3x2.jpg',\n",
       "   'url': 'https://r.pl/albania-aktywni/zakwaterowanie-alk?data=20230904&dlugoscPobytu=8&miastoWyjazdu=katowice&iataWyjazdu=KTW&wyzywienie=2-posilki&liczbaPokoi=1&czyCenaZaWszystkich=0&wiek=1993-01-01&wiek=1993-01-01'},\n",
       "  {'@context': 'https://schema.org/',\n",
       "   '@type': 'ListItem',\n",
       "   'position': '4',\n",
       "   'name': 'Welcome to London',\n",
       "   'image': 'https:https://zdjecia-cdn.r.pl/hotel/424/zakwaterowanie-llo_424_109704_3x2.jpg',\n",
       "   'url': 'https://r.pl/welcome-to-london/zakwaterowanie-llo?data=20230914&dlugoscPobytu=4&miastoWyjazdu=katowice&iataWyjazdu=KTW&wyzywienie=sniadania&liczbaPokoi=1&czyCenaZaWszystkich=0&wiek=1993-01-01&wiek=1993-01-01'},\n",
       "  {'@context': 'https://schema.org/',\n",
       "   '@type': 'ListItem',\n",
       "   'position': '5',\n",
       "   'name': 'Turcja Egejska - Sułtańskie Rarytasy',\n",
       "   'image': 'https:https://zdjecia-cdn.r.pl/hotel/864/zakwaterowanie-tir_864_102285_3x2.jpg',\n",
       "   'url': 'https://r.pl/turcja-egejska-sultanskie-rarytasy/zakwaterowanie-tir?data=20230903&dlugoscPobytu=9&miastoWyjazdu=wroclaw&iataWyjazdu=WRO&wyzywienie=2-posilki&liczbaPokoi=1&czyCenaZaWszystkich=0&wiek=1993-01-01&wiek=1993-01-01'},\n",
       "  {'@context': 'https://schema.org/',\n",
       "   '@type': 'ListItem',\n",
       "   'position': '6',\n",
       "   'name': 'Bułgaria - Od gór do morza, po Złote Piaski',\n",
       "   'image': 'https:https://zdjecia-cdn.r.pl/hotel/842/zakwaterowanie-buw_842_103347_3x2.jpg',\n",
       "   'url': 'https://r.pl/bulgaria-od-gor-do-morza-po-zlote-piaski/zakwaterowanie-buw?data=20230908&dlugoscPobytu=8&miastoWyjazdu=katowice&iataWyjazdu=KTW&wyzywienie=sniadania&liczbaPokoi=1&czyCenaZaWszystkich=0&wiek=1993-01-01&wiek=1993-01-01'},\n",
       "  {'@context': 'https://schema.org/',\n",
       "   '@type': 'ListItem',\n",
       "   'position': '7',\n",
       "   'name': 'Egipt - Hurghada Holiday Tour',\n",
       "   'image': 'https:https://zdjecia-cdn.r.pl/hotel/4654/zakwaterowanie-egh_4654_108276_3x2.jpg',\n",
       "   'url': 'https://r.pl/egipt-hurghada-holiday-tour/zakwaterowanie-egh?data=20230903&dlugoscPobytu=8&miastoWyjazdu=katowice&iataWyjazdu=KTW&wyzywienie=all-inclusive&liczbaPokoi=1&czyCenaZaWszystkich=0&wiek=1993-01-01&wiek=1993-01-01'},\n",
       "  {'@context': 'https://schema.org/',\n",
       "   '@type': 'ListItem',\n",
       "   'position': '8',\n",
       "   'name': 'Poznaj nieznane',\n",
       "   'image': 'https:https://zdjecia-cdn.r.pl/hotel/3372/zakwaterowanie-alo_3372_102243_3x2.jpg',\n",
       "   'url': 'https://r.pl/poznaj-nieznane/zakwaterowanie-alo?data=20230904&dlugoscPobytu=8&miastoWyjazdu=katowice&iataWyjazdu=KTW&wyzywienie=2-posilki&liczbaPokoi=1&czyCenaZaWszystkich=0&wiek=1993-01-01&wiek=1993-01-01'},\n",
       "  {'@context': 'https://schema.org/',\n",
       "   '@type': 'ListItem',\n",
       "   'position': '9',\n",
       "   'name': 'Egipt - Potęga Południa',\n",
       "   'image': 'https:https://zdjecia-cdn.r.pl/hotel/118/zakwaterowanie-egi_118_99826_3x2.jpg',\n",
       "   'url': 'https://r.pl/egipt-potega-poludnia/zakwaterowanie-egi?data=20230907&dlugoscPobytu=8&miastoWyjazdu=katowice&iataWyjazdu=KTW&wyzywienie=&liczbaPokoi=1&czyCenaZaWszystkich=0&wiek=1993-01-01&wiek=1993-01-01'},\n",
       "  {'@context': 'https://schema.org/',\n",
       "   '@type': 'ListItem',\n",
       "   'position': '10',\n",
       "   'name': 'Turcja - Przygoda w księżycowej Krainie',\n",
       "   'image': 'https:https://zdjecia-cdn.r.pl/hotel/2742/zakwaterowanie-kon_2742_63329_3x2.jpg',\n",
       "   'url': 'https://r.pl/turcja-przygoda-w-ksiezycowej-krainie/zakwaterowanie-kon?data=20230902&dlugoscPobytu=8&miastoWyjazdu=warszawa&iataWyjazdu=WAW&wyzywienie=2-posilki&liczbaPokoi=1&czyCenaZaWszystkich=0&wiek=1993-01-01&wiek=1993-01-01'}]}"
      ]
     },
     "execution_count": 5,
     "metadata": {},
     "output_type": "execute_result"
    }
   ],
   "source": [
    "json_object"
   ]
  },
  {
   "cell_type": "code",
   "execution_count": 211,
   "id": "b0909c04-0764-493c-8737-b942da6ca3d9",
   "metadata": {},
   "outputs": [
    {
     "data": {
      "text/plain": [
       "'[{\"BloczekId\":\"4188_9267:171696:7064027\",\"BazoweInformacje\":{\"ImprezaID\":171696,\"HotelID\":4188,\"LiczbaDni\":14,\"LiczbaNocy\":13,\"LiczbaDniPrzedluzenie\":0,\"KodProduktu\":\"AUC\",\"TypWycieczki\":\"objazd\",\"Lokalizacje\":\"Australia\",\"Panstwa\":[\"Australia\"],\"Regiony\":[],\"GwiazdkiHotelu\":3,\"NazwaHoteluWWW\":\"\",\"OfertaNazwa\":\"Australia Open!\",\"OfertaURL\":\"/australia-open/zakwaterowanie-auc?data=20240419\\\\u0026dlugoscPobytu=14\\\\u0026miastoWyjazdu=\\\\u0026iataWyjazdu=\\\\u0026wyzywienie=\\\\u0026liczbaPokoi=1\\\\u0026czyCenaZaWszystkich=0\\\\u0026wiek=1993-01-01\\\\u0026wiek=1993-01-01\",\"OfertaBezTerminu\":\"/australia-open/zakwaterowanie-auc?data=%s\\\\u0026dlugoscPobytu=%d\\\\u0026miastoWyjazdu=%s\\\\u0026iataWyjazdu=%s\\\\u0026wyzywienie=%s\\\\u0026liczbaPokoi=%d\\\\u0026czyCenaZaWszystkich=%d\",\"OfertaURLDlaGoogle\":\"/australia-open/zakwaterowanie-auc\",\"DatyUrodzenia\":[\"1993-01-01\",\"1993-01-01\"],\"LiczbaPokoi\":1,\"Params\":\"3-posilki+KTW+KTW+-\",\"HappyHoursKolejnosc\":1000},\"Zdjecia\":[\"https://zdjecia-cdn.r.pl/hotel/4188/zakwaterowanie-auc_4188_105075_3x2.jpg\",\"https://zdjecia-cdn.r.pl/hotel/4188/zakwaterowanie-auc_4188_105070_3x2.jpg\",\"https://zdjecia-cdn.r.pl/hotel/4188/zakwaterowanie-auc_4188_105071_3x2.jpg\",\"https://zdjecia-cdn.r.pl/hotel/4188/zakwaterowanie-auc_4188_105072_3x2.jpg\",\"https://zdjecia-cdn.r.pl/hotel/4188/zakwaterowanie-auc_4188_105073_3x2.jpg\",\"https://zdjecia-cdn.r.pl/hotel/4188/zakwaterowanie-auc_4188_105074_3x2.jpg\",\"https://zdjecia-cdn.r.pl/hotel/4188/zakwaterowanie-auc_4188_105076_3x2.jpg\",\"https://zdjecia-cdn.r.pl/hotel/4188/zakwaterowanie-auc_4188_105077_3x2.jpg\",\"https://zdjecia-cdn.r.pl/hotel/4188/zakwaterowanie-auc_4188_105078_3x2.jpg\",\"https://zdjecia-cdn.r.pl/hotel/4188/zakwaterowanie-auc_4188_105079_3x2.jpg\",\"https://zdjecia-cdn.r.pl/hotel/4188/zakwaterowanie-auc_4188_105080_3x2.jpg\",\"https://zdjecia-cdn.r.pl/hotel/4188/zakwaterowanie-auc_4188_105081_3x2.jpg\",\"https://zdjecia-cdn.r.pl/hotel/4188/zakwaterowanie-auc_4188_131850_3x2.jpg\"],\"Czy3x2\":true,\"Ocena\":{\"Ocena\":5.17,\"IloscOcen\":6,\"CzyPokazywac\":true},\"Cena\":{\"CenaAktualna\":2450,\"CenaPrzedPromocja\":3350,\"CenaOmnibus\":27741,\"CenyZaPokoj\":[{\"Pokoj\":0,\"Cena\":0},{\"Pokoj\":0,\"Cena\":0}],\"CenyUslug\":null,\"WolneMiejsca\":0},\"CzyCenaZaOsobe\":true,\"CzyPrzedluzony\":false,\"TerminWyjazdu\":\"2024-04-19T00:00:00Z\",\"Przystanki\":[{\"Nazwa\":\"Warszawa Chopin\",\"Iata\":\"WAW\",\"Miasto\":\"\",\"MiastoURL\":\"warszawa\",\"CzySamolot\":true,\"CzyDreamliner\":false}],\"Wyzywienia\":[],\"Fiszki\":[],\"Film\":{},\"CzyLight\":false}]'"
      ]
     },
     "execution_count": 211,
     "metadata": {},
     "output_type": "execute_result"
    }
   ],
   "source": [
    "def get_basic_information(blockId, price, price_without_promo, params, omnibus_key, route):\n",
    "    json_data = {\n",
    "        'Parametry': [\n",
    "            {\n",
    "                'Id': blockId,\n",
    "                'Cena': price,\n",
    "                'CenaBezPromocji': price_without_promo,\n",
    "                'CenyZaOsoby': [\n",
    "                    {\n",
    "                        \n",
    "                    },\n",
    "                    {\n",
    "                       \n",
    "                    },\n",
    "                ],\n",
    "                'Params': params,\n",
    "                'KluczOmnibusaKwalifikowany': omnibus_key ,\n",
    "            },        \n",
    "        ],\n",
    "        'CzyCenaZaOsobe': True,\n",
    "        'DatyUrodzenia': [\n",
    "            '1993-01-01',\n",
    "            '1993-01-01',\n",
    "        ],\n",
    "        'LiczbaPokoi': 1,\n",
    "        'Route': route,\n",
    "    }\n",
    "\n",
    "    response = requests.post('https://r.pl/api/bloczki/pobierz-bloczki', json=json_data)\n",
    "    return response\n",
    "\n",
    "# data example \n",
    "'''\n",
    "\"6894_9333:175096:7199355\",2450,3350,[768,770],{\"Pokoj\":128,\"Cena\":769},2449,{\"Pokoj\":128,\"Cena\":769},\"3-posilki+KTW+KTW+-\",\"7199355_0_1_0_K7_7_I0k_Kk_297983_835800_297959_835753_3-posilki_\",\n",
    "{\"Id\":774,\"Cena\":775,\"CenaBezPromocji\":776,\"CenyZaOsoby\":777,\"Params\":717,\"KategoriaWycieczki\":452,\"Promowane\":278,\"KluczOmnibusaKwalifikowany\":781},\n",
    "'''\n",
    "\n",
    "information = get_basic_information(\n",
    "                                        \"4188_9267:171696:7064027\",\n",
    "                                        2450,\n",
    "                                        3350,\n",
    "                                        \"3-posilki+KTW+KTW+-\",\n",
    "                                        \"7236943_0_1_0_K63_63_I0k_Kk_302238_844372_302252_844401_sniadania_\",\n",
    "                                        '/wycieczki-objazdowe'\n",
    "                                    )\n",
    "information.text\n",
    "\n",
    "\n",
    "\n",
    "\n"
   ]
  },
  {
   "cell_type": "code",
   "execution_count": 94,
   "id": "44bed8db-8810-4252-8bf0-dc88b01efdc3",
   "metadata": {},
   "outputs": [
    {
     "data": {
      "text/plain": [
       "'[{\"BloczekId\":\"6894_9333:175096:7199355\",\"BazoweInformacje\":{\"ImprezaID\":175096,\"HotelID\":6894,\"LiczbaDni\":8,\"LiczbaNocy\":7,\"LiczbaDniPrzedluzenie\":0,\"KodProduktu\":\"EGF\",\"TypWycieczki\":\"objazd + wypoczynek\",\"Lokalizacje\":\"Egipt: Marsa Alam\",\"Panstwa\":[\"Egipt\"],\"Regiony\":[\"Marsa Alam\"],\"GwiazdkiHotelu\":4,\"NazwaHoteluWWW\":\"\",\"OfertaNazwa\":\"Egipt - Potęga Południa z Marsa Alam - Light\",\"OfertaURL\":\"/egipt-potega-poludnia-z-marsa-alam-light/zakwaterowanie-egf?data=20240319\\\\u0026dlugoscPobytu=8\\\\u0026miastoWyjazdu=katowice\\\\u0026iataWyjazdu=KTW\\\\u0026wyzywienie=\\\\u0026liczbaPokoi=1\\\\u0026czyCenaZaWszystkich=0\\\\u0026wiek=1993-01-01\\\\u0026wiek=1993-01-01\",\"OfertaBezTerminu\":\"/egipt-potega-poludnia-z-marsa-alam-light/zakwaterowanie-egf?data=%s\\\\u0026dlugoscPobytu=%d\\\\u0026miastoWyjazdu=%s\\\\u0026iataWyjazdu=%s\\\\u0026wyzywienie=%s\\\\u0026liczbaPokoi=%d\\\\u0026czyCenaZaWszystkich=%d\",\"OfertaURLDlaGoogle\":\"/egipt-potega-poludnia-z-marsa-alam-light/zakwaterowanie-egf\",\"DatyUrodzenia\":[\"1993-01-01\",\"1993-01-01\"],\"LiczbaPokoi\":1,\"Params\":\"3-posilki+KTW+KTW+-\",\"HappyHoursKolejnosc\":1000},\"Zdjecia\":[\"https://zdjecia-cdn.r.pl/hotel/6894/zakwaterowanie-egf_6894_99826_3x2.jpg\",\"https://zdjecia-cdn.r.pl/hotel/6894/zakwaterowanie-egf_6894_99822_3x2.jpg\",\"https://zdjecia-cdn.r.pl/hotel/6894/zakwaterowanie-egf_6894_99821_3x2.jpg\",\"https://zdjecia-cdn.r.pl/hotel/6894/zakwaterowanie-egf_6894_99827_3x2.jpg\",\"https://zdjecia-cdn.r.pl/hotel/6894/zakwaterowanie-egf_6894_99829_3x2.jpg\",\"https://zdjecia-cdn.r.pl/hotel/6894/zakwaterowanie-egf_6894_99828_3x2.jpg\"],\"Czy3x2\":true,\"Ocena\":{\"Ocena\":4.38,\"IloscOcen\":4,\"CzyPokazywac\":true},\"Cena\":{\"CenaAktualna\":2450,\"CenaPrzedPromocja\":3350,\"CenaOmnibus\":2250,\"CenyZaPokoj\":[{\"Pokoj\":0,\"Cena\":0},{\"Pokoj\":0,\"Cena\":0}],\"CenyUslug\":null,\"WolneMiejsca\":0},\"CzyCenaZaOsobe\":true,\"CzyPrzedluzony\":true,\"TerminWyjazdu\":\"2024-03-19T00:00:00Z\",\"Przystanki\":[{\"Nazwa\":\"Katowice\",\"Iata\":\"KTW\",\"Miasto\":\"\",\"MiastoURL\":\"katowice\",\"CzySamolot\":true,\"CzyDreamliner\":false},{\"Nazwa\":\"Warszawa Chopin\",\"Iata\":\"WAW\",\"Miasto\":\"\",\"MiastoURL\":\"warszawa\",\"CzySamolot\":true,\"CzyDreamliner\":false}],\"Wyzywienia\":[],\"Fiszki\":[],\"Film\":{},\"CzyLight\":false}]'"
      ]
     },
     "execution_count": 94,
     "metadata": {},
     "output_type": "execute_result"
    }
   ],
   "source": [
    "response.text"
   ]
  },
  {
   "cell_type": "code",
   "execution_count": 85,
   "id": "4de99a2f-e0fa-48fe-a616-fe686beecb71",
   "metadata": {},
   "outputs": [
    {
     "data": {
      "text/plain": [
       "':452,\"KluczOmnibusaKwalifikowany\":772},\"6894_9333:175096:7199355\",2450,3350,[768,770],{\"Pokoj\":128,\"Cena\":769},2449,{\"Pokoj\":128,\"Cena\":769},\"3-posilki+KTW+KTW+-\",\"7199355_0_1_0_K7_7_I0k_Kk_297983_835800_297959_835753_3-posilki_\",{\"Id\":774,\"Cena\":775,\"CenaBezPromo'"
      ]
     },
     "execution_count": 85,
     "metadata": {},
     "output_type": "execute_result"
    }
   ],
   "source": [
    "codes=soup.findAll(\"script\")[-4].string\n",
    "codes_json = json.loads(codes)\n",
    "#codes_json\n",
    "\n",
    "codes[codes.find('6894_9333:175096:7199355')-40:codes.find('7199355_0_1_0_K7_7_I0k_Kk_297983_835800_297959_835753_3-posilki_')+100]"
   ]
  },
  {
   "cell_type": "code",
   "execution_count": 10,
   "id": "667bed45-434d-4eb2-82c8-a956e6294794",
   "metadata": {},
   "outputs": [
    {
     "data": {
      "text/plain": [
       "[{'BloczekId': '424_9310:179758:7660799',\n",
       "  'BazoweInformacje': {'ImprezaID': 179758,\n",
       "   'HotelID': 424,\n",
       "   'LiczbaDni': 4,\n",
       "   'LiczbaNocy': 3,\n",
       "   'LiczbaDniPrzedluzenie': 0,\n",
       "   'KluczProduktHotel': '424_9310',\n",
       "   'KodProduktu': 'LLO',\n",
       "   'TypWycieczki': 'objazd',\n",
       "   'Lokalizacje': 'Wielka Brytania: Anglia',\n",
       "   'Panstwa': ['Wielka Brytania'],\n",
       "   'Regiony': ['Anglia'],\n",
       "   'GwiazdkiHotelu': 3,\n",
       "   'NazwaHoteluWWW': '',\n",
       "   'OfertaNazwa': 'Welcome to London',\n",
       "   'OfertaURL': '/welcome-to-london/zakwaterowanie-llo?data=20240125&dlugoscPobytu=4&miastoWyjazdu=katowice&iataWyjazdu=KTW&wyzywienie=sniadania&liczbaPokoi=1&czyCenaZaWszystkich=0&wiek=1993-01-01&wiek=1993-01-01',\n",
       "   'OfertaBezTerminu': '/welcome-to-london/zakwaterowanie-llo?data=%s&dlugoscPobytu=%d&miastoWyjazdu=%s&iataWyjazdu=%s&wyzywienie=%s&liczbaPokoi=%d&czyCenaZaWszystkich=%d',\n",
       "   'OfertaURLDlaGoogle': '/welcome-to-london/zakwaterowanie-llo',\n",
       "   'DatyUrodzenia': ['1993-01-01', '1993-01-01'],\n",
       "   'LiczbaPokoi': 1,\n",
       "   'Params': 'sniadania+KTW+KTW+-',\n",
       "   'HappyHoursKolejnosc': 1000},\n",
       "  'Zdjecia': ['https://zdjecia-cdn.r.pl/hotel/424/zakwaterowanie-llo_424_109704_3x2.jpg',\n",
       "   'https://zdjecia-cdn.r.pl/hotel/424/zakwaterowanie-llo_424_109700_3x2.jpg',\n",
       "   'https://zdjecia-cdn.r.pl/hotel/424/zakwaterowanie-llo_424_109701_3x2.jpg',\n",
       "   'https://zdjecia-cdn.r.pl/hotel/424/zakwaterowanie-llo_424_109702_3x2.jpg',\n",
       "   'https://zdjecia-cdn.r.pl/hotel/424/zakwaterowanie-llo_424_109703_3x2.jpg',\n",
       "   'https://zdjecia-cdn.r.pl/hotel/424/zakwaterowanie-llo_424_109705_3x2.jpg',\n",
       "   'https://zdjecia-cdn.r.pl/hotel/424/zakwaterowanie-llo_424_109706_3x2.jpg',\n",
       "   'https://zdjecia-cdn.r.pl/hotel/424/zakwaterowanie-llo_424_109707_3x2.jpg',\n",
       "   'https://zdjecia-cdn.r.pl/hotel/424/zakwaterowanie-llo_424_109708_3x2.jpg'],\n",
       "  'Czy3x2': True,\n",
       "  'Ocena': {'Ocena': 4.78, 'IloscOcen': 64, 'CzyPokazywac': True},\n",
       "  'Cena': {'CenaAktualna': 2011,\n",
       "   'CenaPrzedPromocja': 2411,\n",
       "   'CenaOmnibus': 1871,\n",
       "   'CenyZaPokoj': [{'Pokoj': 0, 'Cena': 0}, {'Pokoj': 0, 'Cena': 0}],\n",
       "   'CenyZaWszystkieOsoby': None,\n",
       "   'CenyUslug': None,\n",
       "   'WolneMiejsca': 0},\n",
       "  'CzyCenaZaOsobe': True,\n",
       "  'CzyPrzedluzony': False,\n",
       "  'TerminWyjazdu': '2024-01-25T00:00:00Z',\n",
       "  'Przystanki': [{'Nazwa': 'Katowice',\n",
       "    'Iata': 'KTW',\n",
       "    'Miasto': '',\n",
       "    'MiastoURL': 'katowice',\n",
       "    'CzySamolot': True,\n",
       "    'CzyDreamliner': False},\n",
       "   {'Nazwa': 'Warszawa Chopin',\n",
       "    'Iata': 'WAW',\n",
       "    'Miasto': '',\n",
       "    'MiastoURL': 'warszawa',\n",
       "    'CzySamolot': True,\n",
       "    'CzyDreamliner': False},\n",
       "   {'Nazwa': 'Gdańsk',\n",
       "    'Iata': 'GDN',\n",
       "    'Miasto': '',\n",
       "    'MiastoURL': 'gdansk',\n",
       "    'CzySamolot': True,\n",
       "    'CzyDreamliner': False}],\n",
       "  'Wyzywienia': [{'Nazwa': 'Śniadania', 'URL': 'sniadania'}],\n",
       "  'Fiszki': [],\n",
       "  'Film': {},\n",
       "  'CzyLight': False}]"
      ]
     },
     "execution_count": 10,
     "metadata": {},
     "output_type": "execute_result"
    }
   ],
   "source": [
    "'''\n",
    "{'Id': 685,\n",
    "  'Cena': 686,\n",
    "  'CenaBezPromocji': 687,\n",
    "  'CenyZaOsoby': 688,\n",
    "  'Params': 691,\n",
    "  'KategoriaWycieczki': 448,\n",
    "  'KluczOmnibusaKwalifikowany': 692},\n",
    " '424_9310:179758:7660799',\n",
    " 2011,\n",
    " 2411,\n",
    " [689, 690],\n",
    " {'Pokoj': 128, 'Cena': 686},\n",
    " {'Pokoj': 128, 'Cena': 686},\n",
    " 'sniadania+KTW+KTW+-',\n",
    " '7660799_0_1_0_K5_5_I0k_Kk_299940_839744_299970_839805_sniadania_',\n",
    " '''\n",
    "\n",
    "test_data = {\n",
    "    'Parametry': [\n",
    "        {\n",
    "            'Id': '424_9310:179758:7660799',\n",
    "            'Cena': 2011,\n",
    "            'CenaBezPromocji': 2411,\n",
    "            'CenyZaOsoby': [\n",
    "                {},\n",
    "                {},\n",
    "            ],\n",
    "            'Params': 'sniadania+KTW+KTW+-',\n",
    "            'KluczOmnibusaKwalifikowany': '7660799_0_1_0_K5_5_I0k_Kk_299940_839744_299970_839805_sniadania_',\n",
    "        },        \n",
    "    ],\n",
    "    'CzyCenaZaOsobe': True,\n",
    "    'DatyUrodzenia': [\n",
    "        '1993-01-01',\n",
    "        '1993-01-01',\n",
    "    ],\n",
    "    'LiczbaPokoi': 1,\n",
    "    'Route': '/wycieczki-objazdowe',\n",
    "}\n",
    "\n",
    "test_response = requests.post('https://r.pl/api/bloczki/pobierz-bloczki',   json=test_data)\n",
    "\n",
    "\n",
    "test_response.json()\n",
    "        "
   ]
  }
 ],
 "metadata": {
  "kernelspec": {
   "display_name": "Python 3 (ipykernel)",
   "language": "python",
   "name": "python3"
  },
  "language_info": {
   "codemirror_mode": {
    "name": "ipython",
    "version": 3
   },
   "file_extension": ".py",
   "mimetype": "text/x-python",
   "name": "python",
   "nbconvert_exporter": "python",
   "pygments_lexer": "ipython3",
   "version": "3.10.4"
  }
 },
 "nbformat": 4,
 "nbformat_minor": 5
}
